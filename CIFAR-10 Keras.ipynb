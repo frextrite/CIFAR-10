{
 "cells": [
  {
   "cell_type": "markdown",
   "metadata": {},
   "source": [
    "# CIFAR-10\n",
    "\n",
    "Link: https://www.cs.toronto.edu/~kriz/cifar.html\n",
    "\n",
    "The CIFAR-10 dataset consists of 60000 32x32 colour images in 10 classes, with 6000 images per class. There are 50000 training images and 10000 test images. \n",
    "\n",
    "The classes are completely mutually exclusive. There is no overlap between automobiles and trucks. \"Automobile\" includes sedans, SUVs, things of that sort. \"Truck\" includes only big trucks. Neither includes pickup trucks."
   ]
  },
  {
   "cell_type": "code",
   "execution_count": 1,
   "metadata": {},
   "outputs": [],
   "source": [
    "# all the imports\n",
    "import tensorflow.keras as keras\n",
    "import numpy as np\n",
    "import glob"
   ]
  },
  {
   "cell_type": "code",
   "execution_count": 2,
   "metadata": {},
   "outputs": [],
   "source": [
    "# variables\n",
    "num_classes = 10"
   ]
  },
  {
   "cell_type": "markdown",
   "metadata": {},
   "source": [
    "## Downloading and Preparing the Dataset\n",
    "The archive contains the files data_batch_1, data_batch_2, ..., data_batch_5, as well as test_batch. Each of these files is a Python \"pickled\" object produced with Pickle.\n",
    "\n",
    "Loaded in this way, each of the batch files contains a dictionary with the following elements:\n",
    "- data -- a 10000x3072 numpy array of uint8s. Each row of the array stores a 32x32 colour image. The first 1024 entries contain the red channel values, the next 1024 the green, and the final 1024 the blue. The image is stored in row-major order, so that the first 32 entries of the array are the red channel values of the first row of the image.\n",
    "- labels -- a list of 10000 numbers in the range 0-9. The number at index i indicates the label of the ith image in the array data."
   ]
  },
  {
   "cell_type": "code",
   "execution_count": 3,
   "metadata": {},
   "outputs": [],
   "source": [
    "# get all the dataset file names\n",
    "filenames_train = np.array(glob.glob(\"./cifar-10-batches-py/data_batch_*\"), dtype=str)\n",
    "filename_test = \"./cifar-10-batches-py/test_batch\"\n",
    "filename_label = \"./cifar-10-batches-py/batches.meta\""
   ]
  },
  {
   "cell_type": "code",
   "execution_count": 4,
   "metadata": {},
   "outputs": [
    {
     "data": {
      "text/plain": [
       "(array(['./cifar-10-batches-py/data_batch_2',\n",
       "        './cifar-10-batches-py/data_batch_1',\n",
       "        './cifar-10-batches-py/data_batch_5',\n",
       "        './cifar-10-batches-py/data_batch_4',\n",
       "        './cifar-10-batches-py/data_batch_3'], dtype='<U34'),\n",
       " './cifar-10-batches-py/test_batch',\n",
       " './cifar-10-batches-py/batches.meta')"
      ]
     },
     "execution_count": 4,
     "metadata": {},
     "output_type": "execute_result"
    }
   ],
   "source": [
    "filenames_train, filename_test, filename_label"
   ]
  },
  {
   "cell_type": "code",
   "execution_count": 5,
   "metadata": {},
   "outputs": [],
   "source": [
    "# unpickle the data and return the dictionary containing the data and label\n",
    "def unpickle(file):\n",
    "    import pickle\n",
    "    with open(file, 'rb') as f:\n",
    "        dict = pickle.load(f, encoding='bytes')\n",
    "    return dict"
   ]
  },
  {
   "cell_type": "code",
   "execution_count": 6,
   "metadata": {},
   "outputs": [],
   "source": [
    "train_images = []\n",
    "labels = []"
   ]
  },
  {
   "cell_type": "code",
   "execution_count": 7,
   "metadata": {},
   "outputs": [],
   "source": [
    "for file in filenames_train:\n",
    "    cifar = unpickle(file)\n",
    "    train_images.extend(cifar[b'data'])\n",
    "    labels += cifar[b'labels']"
   ]
  },
  {
   "cell_type": "code",
   "execution_count": 8,
   "metadata": {},
   "outputs": [
    {
     "data": {
      "text/plain": [
       "(50000, 32, 32, 3)"
      ]
     },
     "execution_count": 8,
     "metadata": {},
     "output_type": "execute_result"
    }
   ],
   "source": [
    "X_train = np.array(train_images)\n",
    "X_train = X_train.reshape(-1, 32, 32, 3)\n",
    "X_train = X_train / 255.0\n",
    "X_train.shape"
   ]
  },
  {
   "cell_type": "code",
   "execution_count": 9,
   "metadata": {},
   "outputs": [],
   "source": [
    "y_train = keras.utils.to_categorical(labels, num_classes)"
   ]
  },
  {
   "cell_type": "code",
   "execution_count": 10,
   "metadata": {},
   "outputs": [
    {
     "data": {
      "text/plain": [
       "(array([[[0.17254902, 0.19215686, 0.20784314],\n",
       "         [0.21176471, 0.20392157, 0.20392157],\n",
       "         [0.20392157, 0.20392157, 0.2       ],\n",
       "         ...,\n",
       "         [0.99607843, 0.99607843, 0.99607843],\n",
       "         [0.99607843, 0.99607843, 0.99607843],\n",
       "         [0.99607843, 0.99607843, 0.99607843]],\n",
       " \n",
       "        [[0.21960784, 0.23137255, 0.23921569],\n",
       "         [0.24705882, 0.25098039, 0.24705882],\n",
       "         [0.24705882, 0.23137255, 0.25490196],\n",
       "         ...,\n",
       "         [0.91764706, 0.99215686, 1.        ],\n",
       "         [1.        , 0.99607843, 0.99215686],\n",
       "         [0.99215686, 1.        , 1.        ]],\n",
       " \n",
       "        [[0.04705882, 0.05490196, 0.05882353],\n",
       "         [0.07058824, 0.09019608, 0.09803922],\n",
       "         [0.12156863, 0.16078431, 0.2       ],\n",
       "         ...,\n",
       "         [0.09019608, 0.08627451, 0.06666667],\n",
       "         [0.07058824, 0.11764706, 0.25098039],\n",
       "         [0.47058824, 0.69019608, 0.84313725]],\n",
       " \n",
       "        ...,\n",
       " \n",
       "        [[0.08235294, 0.05490196, 0.03137255],\n",
       "         [0.03529412, 0.10980392, 0.14117647],\n",
       "         [0.20392157, 0.31764706, 0.20392157],\n",
       "         ...,\n",
       "         [0.29411765, 0.17647059, 0.36470588],\n",
       "         [0.23137255, 0.15294118, 0.1372549 ],\n",
       "         [0.16862745, 0.18039216, 0.18823529]],\n",
       " \n",
       "        [[0.03529412, 0.03137255, 0.03137255],\n",
       "         [0.03529412, 0.04705882, 0.05098039],\n",
       "         [0.07058824, 0.08235294, 0.0627451 ],\n",
       "         ...,\n",
       "         [0.17647059, 0.17254902, 0.31372549],\n",
       "         [0.4       , 0.28627451, 0.17647059],\n",
       "         [0.17647059, 0.11764706, 0.11372549]],\n",
       " \n",
       "        [[0.03529412, 0.0627451 , 0.05882353],\n",
       "         [0.03137255, 0.03921569, 0.04313725],\n",
       "         [0.03921569, 0.04313725, 0.04313725],\n",
       "         ...,\n",
       "         [0.1372549 , 0.11764706, 0.21568627],\n",
       "         [0.17647059, 0.20392157, 0.1372549 ],\n",
       "         [0.12941176, 0.14117647, 0.14509804]]]),\n",
       " array([0., 0., 0., 0., 0., 0., 0., 1., 0., 0.], dtype=float32))"
      ]
     },
     "execution_count": 10,
     "metadata": {},
     "output_type": "execute_result"
    }
   ],
   "source": [
    "X_train[94], y_train[94]"
   ]
  },
  {
   "cell_type": "code",
   "execution_count": 11,
   "metadata": {},
   "outputs": [],
   "source": [
    "test_images = []\n",
    "test_labels = []"
   ]
  },
  {
   "cell_type": "code",
   "execution_count": 12,
   "metadata": {},
   "outputs": [],
   "source": [
    "cifar = unpickle(filename_test)\n",
    "test_images = cifar[b'data']\n",
    "test_labels = cifar[b'labels']"
   ]
  },
  {
   "cell_type": "code",
   "execution_count": 13,
   "metadata": {},
   "outputs": [
    {
     "data": {
      "text/plain": [
       "(10000, 32, 32, 3)"
      ]
     },
     "execution_count": 13,
     "metadata": {},
     "output_type": "execute_result"
    }
   ],
   "source": [
    "X_test = np.array(test_images, dtype=float)\n",
    "X_test = X_test.reshape(-1, 32, 32, 3)\n",
    "X_test = X_test / 255.0\n",
    "X_test.shape"
   ]
  },
  {
   "cell_type": "code",
   "execution_count": 14,
   "metadata": {},
   "outputs": [],
   "source": [
    "y_test = keras.utils.to_categorical(test_labels, num_classes)"
   ]
  },
  {
   "cell_type": "code",
   "execution_count": 15,
   "metadata": {},
   "outputs": [
    {
     "data": {
      "text/plain": [
       "(array([[[0.24705882, 0.22745098, 0.27843137],\n",
       "         [0.3372549 , 0.3372549 , 0.34117647],\n",
       "         [0.34509804, 0.34117647, 0.36470588],\n",
       "         ...,\n",
       "         [0.34509804, 0.27058824, 0.30196078],\n",
       "         [0.28627451, 0.29019608, 0.30980392],\n",
       "         [0.31372549, 0.3254902 , 0.31372549]],\n",
       " \n",
       "        [[0.30588235, 0.28627451, 0.34117647],\n",
       "         [0.35294118, 0.43137255, 0.43529412],\n",
       "         [0.36470588, 0.34901961, 0.36862745],\n",
       "         ...,\n",
       "         [0.50588235, 0.38823529, 0.38823529],\n",
       "         [0.31372549, 0.32156863, 0.35686275],\n",
       "         [0.30980392, 0.30196078, 0.3254902 ]],\n",
       " \n",
       "        [[0.35294118, 0.3254902 , 0.30588235],\n",
       "         [0.38039216, 0.40784314, 0.41960784],\n",
       "         [0.40784314, 0.43137255, 0.37254902],\n",
       "         ...,\n",
       "         [0.49411765, 0.37254902, 0.32156863],\n",
       "         [0.30196078, 0.25098039, 0.30980392],\n",
       "         [0.28627451, 0.32156863, 0.36470588]],\n",
       " \n",
       "        ...,\n",
       " \n",
       "        [[0.17254902, 0.16078431, 0.20392157],\n",
       "         [0.2       , 0.21568627, 0.20392157],\n",
       "         [0.22352941, 0.2       , 0.18823529],\n",
       "         ...,\n",
       "         [0.36078431, 0.21960784, 0.24705882],\n",
       "         [0.25882353, 0.2745098 , 0.28627451],\n",
       "         [0.2627451 , 0.2627451 , 0.25098039]],\n",
       " \n",
       "        [[0.19607843, 0.21568627, 0.22745098],\n",
       "         [0.22745098, 0.19215686, 0.21568627],\n",
       "         [0.21176471, 0.21176471, 0.21960784],\n",
       "         ...,\n",
       "         [0.25098039, 0.27058824, 0.25098039],\n",
       "         [0.26666667, 0.2627451 , 0.2627451 ],\n",
       "         [0.27843137, 0.28627451, 0.29803922]],\n",
       " \n",
       "        [[0.20784314, 0.19607843, 0.19607843],\n",
       "         [0.20392157, 0.21176471, 0.21176471],\n",
       "         [0.21176471, 0.21176471, 0.23529412],\n",
       "         ...,\n",
       "         [0.29019608, 0.29019608, 0.2627451 ],\n",
       "         [0.27058824, 0.27058824, 0.24705882],\n",
       "         [0.23921569, 0.25098039, 0.25882353]]]),\n",
       " array([0., 0., 0., 0., 1., 0., 0., 0., 0., 0.], dtype=float32))"
      ]
     },
     "execution_count": 15,
     "metadata": {},
     "output_type": "execute_result"
    }
   ],
   "source": [
    "X_test[94], y_test[94]"
   ]
  },
  {
   "cell_type": "markdown",
   "metadata": {},
   "source": [
    "## Convolution Neural Network Model\n",
    "We'll implement a Deep CNN Model with regularization techniques"
   ]
  },
  {
   "cell_type": "code",
   "execution_count": 16,
   "metadata": {},
   "outputs": [],
   "source": [
    "from tensorflow.keras.layers import Conv2D, MaxPooling2D\n",
    "from tensorflow.keras.layers import Dense, Dropout, Activation, Flatten, Input\n",
    "from tensorflow.keras.models import Model"
   ]
  },
  {
   "cell_type": "code",
   "execution_count": 17,
   "metadata": {
    "scrolled": true
   },
   "outputs": [
    {
     "name": "stdout",
     "output_type": "stream",
     "text": [
      "_________________________________________________________________\n",
      "Layer (type)                 Output Shape              Param #   \n",
      "=================================================================\n",
      "input_1 (InputLayer)         (None, 32, 32, 3)         0         \n",
      "_________________________________________________________________\n",
      "conv2d (Conv2D)              (None, 32, 32, 64)        1792      \n",
      "_________________________________________________________________\n",
      "conv2d_1 (Conv2D)            (None, 32, 32, 64)        36928     \n",
      "_________________________________________________________________\n",
      "max_pooling2d (MaxPooling2D) (None, 16, 16, 64)        0         \n",
      "_________________________________________________________________\n",
      "dropout (Dropout)            (None, 16, 16, 64)        0         \n",
      "_________________________________________________________________\n",
      "conv2d_2 (Conv2D)            (None, 16, 16, 128)       73856     \n",
      "_________________________________________________________________\n",
      "conv2d_3 (Conv2D)            (None, 16, 16, 128)       147584    \n",
      "_________________________________________________________________\n",
      "max_pooling2d_1 (MaxPooling2 (None, 8, 8, 128)         0         \n",
      "_________________________________________________________________\n",
      "dropout_1 (Dropout)          (None, 8, 8, 128)         0         \n",
      "_________________________________________________________________\n",
      "conv2d_4 (Conv2D)            (None, 8, 8, 256)         295168    \n",
      "_________________________________________________________________\n",
      "conv2d_5 (Conv2D)            (None, 8, 8, 256)         590080    \n",
      "_________________________________________________________________\n",
      "max_pooling2d_2 (MaxPooling2 (None, 4, 4, 256)         0         \n",
      "_________________________________________________________________\n",
      "dropout_2 (Dropout)          (None, 4, 4, 256)         0         \n",
      "_________________________________________________________________\n",
      "flatten (Flatten)            (None, 4096)              0         \n",
      "_________________________________________________________________\n",
      "dense (Dense)                (None, 4096)              16781312  \n",
      "_________________________________________________________________\n",
      "dropout_3 (Dropout)          (None, 4096)              0         \n",
      "_________________________________________________________________\n",
      "dense_1 (Dense)              (None, 1024)              4195328   \n",
      "_________________________________________________________________\n",
      "dense_2 (Dense)              (None, 10)                10250     \n",
      "=================================================================\n",
      "Total params: 22,132,298\n",
      "Trainable params: 22,132,298\n",
      "Non-trainable params: 0\n",
      "_________________________________________________________________\n"
     ]
    }
   ],
   "source": [
    "# define the model\n",
    "x = Input(shape=(32, 32, 3, ))\n",
    "conv1 = Conv2D(64, (3,3), padding='same', activation='relu')(x)\n",
    "conv2 = Conv2D(64, (3,3), padding='same', activation='relu')(conv1)\n",
    "conv2_maxpool = MaxPooling2D(pool_size=(2,2))(conv2)\n",
    "conv2_maxpool_dropout = Dropout(0.25)(conv2_maxpool)\n",
    "\n",
    "conv3 = Conv2D(128, (3,3), padding='same', activation='relu')(conv2_maxpool_dropout)\n",
    "conv4 = Conv2D(128, (3,3), padding='same', activation='relu')(conv3)\n",
    "conv4_maxpool = MaxPooling2D(pool_size=(2,2))(conv4)\n",
    "conv4_maxpool_dropout = Dropout(0.25)(conv4_maxpool)\n",
    "\n",
    "conv5 = Conv2D(256, (3,3), padding='same', activation='relu')(conv4_maxpool_dropout)\n",
    "conv6 = Conv2D(256, (3,3), padding='same', activation='relu')(conv5)\n",
    "conv6_maxpool = MaxPooling2D(pool_size=(2,2))(conv6)\n",
    "conv6_maxpool_dropout = Dropout(0.25)(conv6_maxpool)\n",
    "\n",
    "flatten = Flatten()(conv6_maxpool_dropout)\n",
    "fc1 = Dense(4096, activation='relu')(flatten)\n",
    "fc1_dropout = Dropout(0.5)(fc1)\n",
    "fc2 = Dense(1024, activation='relu')(fc1_dropout)\n",
    "fc3 = Dense(num_classes, activation='softmax')(fc2)\n",
    "\n",
    "model = Model(inputs=x, outputs=fc3)\n",
    "model.summary()"
   ]
  },
  {
   "cell_type": "markdown",
   "metadata": {},
   "source": [
    "## Compile Model\n",
    "Compile the model with\n",
    "1. loss function as categorical crossentropy\n",
    "2. optimizer as Adam\n",
    "3. metric as accuracy"
   ]
  },
  {
   "cell_type": "code",
   "execution_count": 18,
   "metadata": {},
   "outputs": [],
   "source": [
    "model.compile(loss='categorical_crossentropy', optimizer='adam', metrics=['accuracy'])"
   ]
  },
  {
   "cell_type": "markdown",
   "metadata": {},
   "source": [
    "### Setup Callbacks"
   ]
  },
  {
   "cell_type": "code",
   "execution_count": 19,
   "metadata": {},
   "outputs": [],
   "source": [
    "n_epochs = 50\n",
    "batch_size = 512"
   ]
  },
  {
   "cell_type": "code",
   "execution_count": 20,
   "metadata": {},
   "outputs": [],
   "source": [
    "from tensorflow.keras.callbacks import ModelCheckpoint, TensorBoard\n",
    "\n",
    "filepath=\"/media/amol/WINUX/CIFAR-10-{epoch:02d}-{val_loss:.4f}.h5\"\n",
    "tensorboard = TensorBoard(log_dir='/tmp/cifar-10-final', batch_size=batch_size, write_graph=True, histogram_freq=0)\n",
    "checkpoint = ModelCheckpoint(filepath, monitor='val_loss', verbose=1, save_best_only=False, mode='min')\n",
    "callbacks_list = [checkpoint, tensorboard]"
   ]
  },
  {
   "cell_type": "markdown",
   "metadata": {},
   "source": [
    "Finally, it's time to train our model"
   ]
  },
  {
   "cell_type": "code",
   "execution_count": 21,
   "metadata": {},
   "outputs": [
    {
     "name": "stdout",
     "output_type": "stream",
     "text": [
      "Train on 50000 samples, validate on 10000 samples\n",
      "Epoch 1/50\n",
      "50000/50000 [==============================] - 33s 666us/step - loss: 2.0808 - acc: 0.2183 - val_loss: 1.7260 - val_acc: 0.3639\n",
      "\n",
      "Epoch 00001: saving model to /media/amol/WINUX/CIFAR-10-01-1.7260.h5\n",
      "Epoch 2/50\n",
      "50000/50000 [==============================] - 28s 567us/step - loss: 1.6650 - acc: 0.3878 - val_loss: 1.4844 - val_acc: 0.4536\n",
      "\n",
      "Epoch 00002: saving model to /media/amol/WINUX/CIFAR-10-02-1.4844.h5\n",
      "Epoch 3/50\n",
      "50000/50000 [==============================] - 28s 569us/step - loss: 1.4840 - acc: 0.4559 - val_loss: 1.4085 - val_acc: 0.4895\n",
      "\n",
      "Epoch 00003: saving model to /media/amol/WINUX/CIFAR-10-03-1.4085.h5\n",
      "Epoch 4/50\n",
      "50000/50000 [==============================] - 28s 570us/step - loss: 1.3499 - acc: 0.5081 - val_loss: 1.2891 - val_acc: 0.5347\n",
      "\n",
      "Epoch 00004: saving model to /media/amol/WINUX/CIFAR-10-04-1.2891.h5\n",
      "Epoch 5/50\n",
      "50000/50000 [==============================] - 28s 570us/step - loss: 1.2430 - acc: 0.5505 - val_loss: 1.1728 - val_acc: 0.5792\n",
      "\n",
      "Epoch 00005: saving model to /media/amol/WINUX/CIFAR-10-05-1.1728.h5\n",
      "Epoch 6/50\n",
      "50000/50000 [==============================] - 28s 569us/step - loss: 1.1539 - acc: 0.5847 - val_loss: 1.0984 - val_acc: 0.6074\n",
      "\n",
      "Epoch 00006: saving model to /media/amol/WINUX/CIFAR-10-06-1.0984.h5\n",
      "Epoch 7/50\n",
      "50000/50000 [==============================] - 29s 571us/step - loss: 1.0958 - acc: 0.6101 - val_loss: 1.0955 - val_acc: 0.6143\n",
      "\n",
      "Epoch 00007: saving model to /media/amol/WINUX/CIFAR-10-07-1.0955.h5\n",
      "Epoch 8/50\n",
      "50000/50000 [==============================] - 28s 569us/step - loss: 1.0388 - acc: 0.6293 - val_loss: 1.0438 - val_acc: 0.6310\n",
      "\n",
      "Epoch 00008: saving model to /media/amol/WINUX/CIFAR-10-08-1.0438.h5\n",
      "Epoch 9/50\n",
      "50000/50000 [==============================] - 28s 569us/step - loss: 0.9934 - acc: 0.6496 - val_loss: 1.0564 - val_acc: 0.6277\n",
      "\n",
      "Epoch 00009: saving model to /media/amol/WINUX/CIFAR-10-09-1.0564.h5\n",
      "Epoch 10/50\n",
      "50000/50000 [==============================] - 29s 573us/step - loss: 0.9397 - acc: 0.6660 - val_loss: 0.9580 - val_acc: 0.6591\n",
      "\n",
      "Epoch 00010: saving model to /media/amol/WINUX/CIFAR-10-10-0.9580.h5\n",
      "Epoch 11/50\n",
      "50000/50000 [==============================] - 29s 579us/step - loss: 0.9134 - acc: 0.6739 - val_loss: 1.0024 - val_acc: 0.6568\n",
      "\n",
      "Epoch 00011: saving model to /media/amol/WINUX/CIFAR-10-11-1.0024.h5\n",
      "Epoch 12/50\n",
      "50000/50000 [==============================] - 28s 570us/step - loss: 0.8803 - acc: 0.6887 - val_loss: 0.9402 - val_acc: 0.6757\n",
      "\n",
      "Epoch 00012: saving model to /media/amol/WINUX/CIFAR-10-12-0.9402.h5\n",
      "Epoch 13/50\n",
      "50000/50000 [==============================] - 28s 569us/step - loss: 0.8454 - acc: 0.7019 - val_loss: 0.9367 - val_acc: 0.6785\n",
      "\n",
      "Epoch 00013: saving model to /media/amol/WINUX/CIFAR-10-13-0.9367.h5\n",
      "Epoch 14/50\n",
      "50000/50000 [==============================] - 28s 569us/step - loss: 0.8185 - acc: 0.7097 - val_loss: 0.9737 - val_acc: 0.6648\n",
      "\n",
      "Epoch 00014: saving model to /media/amol/WINUX/CIFAR-10-14-0.9737.h5\n",
      "Epoch 15/50\n",
      "50000/50000 [==============================] - 29s 571us/step - loss: 0.7870 - acc: 0.7208 - val_loss: 0.8860 - val_acc: 0.6944\n",
      "\n",
      "Epoch 00015: saving model to /media/amol/WINUX/CIFAR-10-15-0.8860.h5\n",
      "Epoch 16/50\n",
      "50000/50000 [==============================] - 28s 568us/step - loss: 0.7674 - acc: 0.7294 - val_loss: 0.9381 - val_acc: 0.6823\n",
      "\n",
      "Epoch 00016: saving model to /media/amol/WINUX/CIFAR-10-16-0.9381.h5\n",
      "Epoch 17/50\n",
      "50000/50000 [==============================] - 28s 569us/step - loss: 0.7406 - acc: 0.7373 - val_loss: 0.9162 - val_acc: 0.6921\n",
      "\n",
      "Epoch 00017: saving model to /media/amol/WINUX/CIFAR-10-17-0.9162.h5\n",
      "Epoch 18/50\n",
      "50000/50000 [==============================] - 28s 568us/step - loss: 0.7220 - acc: 0.7453 - val_loss: 0.8938 - val_acc: 0.6971\n",
      "\n",
      "Epoch 00018: saving model to /media/amol/WINUX/CIFAR-10-18-0.8938.h5\n",
      "Epoch 19/50\n",
      "50000/50000 [==============================] - 29s 581us/step - loss: 0.6982 - acc: 0.7525 - val_loss: 0.9126 - val_acc: 0.6940\n",
      "\n",
      "Epoch 00019: saving model to /media/amol/WINUX/CIFAR-10-19-0.9126.h5\n",
      "Epoch 20/50\n",
      "50000/50000 [==============================] - 29s 580us/step - loss: 0.6780 - acc: 0.7594 - val_loss: 0.9153 - val_acc: 0.6910\n",
      "\n",
      "Epoch 00020: saving model to /media/amol/WINUX/CIFAR-10-20-0.9153.h5\n",
      "Epoch 21/50\n",
      "50000/50000 [==============================] - 29s 582us/step - loss: 0.6680 - acc: 0.7629 - val_loss: 0.9023 - val_acc: 0.7028\n",
      "\n",
      "Epoch 00021: saving model to /media/amol/WINUX/CIFAR-10-21-0.9023.h5\n",
      "Epoch 22/50\n",
      "50000/50000 [==============================] - 30s 590us/step - loss: 0.6571 - acc: 0.7670 - val_loss: 0.9022 - val_acc: 0.7037\n",
      "\n",
      "Epoch 00022: saving model to /media/amol/WINUX/CIFAR-10-22-0.9022.h5\n",
      "Epoch 23/50\n",
      "50000/50000 [==============================] - 29s 586us/step - loss: 0.6303 - acc: 0.7754 - val_loss: 0.8704 - val_acc: 0.7116\n",
      "\n",
      "Epoch 00023: saving model to /media/amol/WINUX/CIFAR-10-23-0.8704.h5\n",
      "Epoch 24/50\n",
      "50000/50000 [==============================] - 31s 612us/step - loss: 0.6146 - acc: 0.7812 - val_loss: 0.8998 - val_acc: 0.7080\n",
      "\n",
      "Epoch 00024: saving model to /media/amol/WINUX/CIFAR-10-24-0.8998.h5\n",
      "Epoch 25/50\n",
      "50000/50000 [==============================] - 29s 589us/step - loss: 0.6024 - acc: 0.7856 - val_loss: 0.8910 - val_acc: 0.7081\n",
      "\n",
      "Epoch 00025: saving model to /media/amol/WINUX/CIFAR-10-25-0.8910.h5\n",
      "Epoch 26/50\n",
      "50000/50000 [==============================] - 29s 588us/step - loss: 0.5850 - acc: 0.7930 - val_loss: 0.8968 - val_acc: 0.7095\n",
      "\n",
      "Epoch 00026: saving model to /media/amol/WINUX/CIFAR-10-26-0.8968.h5\n",
      "Epoch 27/50\n",
      "50000/50000 [==============================] - 29s 590us/step - loss: 0.5724 - acc: 0.7971 - val_loss: 0.8692 - val_acc: 0.7157\n",
      "\n",
      "Epoch 00027: saving model to /media/amol/WINUX/CIFAR-10-27-0.8692.h5\n",
      "Epoch 28/50\n",
      "50000/50000 [==============================] - 29s 589us/step - loss: 0.5594 - acc: 0.8003 - val_loss: 0.8962 - val_acc: 0.7159\n",
      "\n",
      "Epoch 00028: saving model to /media/amol/WINUX/CIFAR-10-28-0.8962.h5\n",
      "Epoch 29/50\n",
      "50000/50000 [==============================] - 29s 588us/step - loss: 0.5519 - acc: 0.8017 - val_loss: 0.8853 - val_acc: 0.7150\n",
      "\n",
      "Epoch 00029: saving model to /media/amol/WINUX/CIFAR-10-29-0.8853.h5\n",
      "Epoch 30/50\n",
      "50000/50000 [==============================] - 30s 593us/step - loss: 0.5468 - acc: 0.8046 - val_loss: 0.9208 - val_acc: 0.7101\n",
      "\n",
      "Epoch 00030: saving model to /media/amol/WINUX/CIFAR-10-30-0.9208.h5\n",
      "Epoch 31/50\n",
      "50000/50000 [==============================] - 28s 569us/step - loss: 0.5450 - acc: 0.8045 - val_loss: 0.8882 - val_acc: 0.7238\n",
      "\n",
      "Epoch 00031: saving model to /media/amol/WINUX/CIFAR-10-31-0.8882.h5\n",
      "Epoch 32/50\n",
      "50000/50000 [==============================] - 29s 570us/step - loss: 0.5108 - acc: 0.8178 - val_loss: 0.9272 - val_acc: 0.7146\n",
      "\n",
      "Epoch 00032: saving model to /media/amol/WINUX/CIFAR-10-32-0.9272.h5\n",
      "Epoch 33/50\n",
      "50000/50000 [==============================] - 29s 575us/step - loss: 0.5054 - acc: 0.8187 - val_loss: 0.8972 - val_acc: 0.7218\n",
      "\n",
      "Epoch 00033: saving model to /media/amol/WINUX/CIFAR-10-33-0.8972.h5\n",
      "Epoch 34/50\n",
      "50000/50000 [==============================] - 30s 593us/step - loss: 0.4908 - acc: 0.8236 - val_loss: 0.9009 - val_acc: 0.7191\n",
      "\n",
      "Epoch 00034: saving model to /media/amol/WINUX/CIFAR-10-34-0.9009.h5\n",
      "Epoch 35/50\n",
      "50000/50000 [==============================] - 30s 596us/step - loss: 0.4936 - acc: 0.8239 - val_loss: 0.8767 - val_acc: 0.7238\n",
      "\n",
      "Epoch 00035: saving model to /media/amol/WINUX/CIFAR-10-35-0.8767.h5\n",
      "Epoch 36/50\n",
      "50000/50000 [==============================] - 29s 582us/step - loss: 0.4722 - acc: 0.8311 - val_loss: 0.9026 - val_acc: 0.7214\n",
      "\n",
      "Epoch 00036: saving model to /media/amol/WINUX/CIFAR-10-36-0.9026.h5\n",
      "Epoch 37/50\n",
      "50000/50000 [==============================] - 29s 581us/step - loss: 0.4719 - acc: 0.8300 - val_loss: 0.9557 - val_acc: 0.7091\n",
      "\n",
      "Epoch 00037: saving model to /media/amol/WINUX/CIFAR-10-37-0.9557.h5\n",
      "Epoch 38/50\n",
      "50000/50000 [==============================] - 29s 572us/step - loss: 0.4640 - acc: 0.8326 - val_loss: 0.9586 - val_acc: 0.7058\n",
      "\n",
      "Epoch 00038: saving model to /media/amol/WINUX/CIFAR-10-38-0.9586.h5\n",
      "Epoch 39/50\n",
      "50000/50000 [==============================] - 29s 577us/step - loss: 0.4552 - acc: 0.8366 - val_loss: 0.9656 - val_acc: 0.7096\n",
      "\n",
      "Epoch 00039: saving model to /media/amol/WINUX/CIFAR-10-39-0.9656.h5\n"
     ]
    },
    {
     "name": "stdout",
     "output_type": "stream",
     "text": [
      "Epoch 40/50\n",
      "50000/50000 [==============================] - 29s 573us/step - loss: 0.4563 - acc: 0.8366 - val_loss: 0.9323 - val_acc: 0.7234\n",
      "\n",
      "Epoch 00040: saving model to /media/amol/WINUX/CIFAR-10-40-0.9323.h5\n",
      "Epoch 41/50\n",
      "50000/50000 [==============================] - 28s 567us/step - loss: 0.4444 - acc: 0.8410 - val_loss: 0.9532 - val_acc: 0.7203\n",
      "\n",
      "Epoch 00041: saving model to /media/amol/WINUX/CIFAR-10-41-0.9532.h5\n",
      "Epoch 42/50\n",
      "50000/50000 [==============================] - 29s 572us/step - loss: 0.4301 - acc: 0.8443 - val_loss: 0.9758 - val_acc: 0.7187\n",
      "\n",
      "Epoch 00042: saving model to /media/amol/WINUX/CIFAR-10-42-0.9758.h5\n",
      "Epoch 43/50\n",
      "50000/50000 [==============================] - 29s 572us/step - loss: 0.4220 - acc: 0.8468 - val_loss: 0.9919 - val_acc: 0.7184\n",
      "\n",
      "Epoch 00043: saving model to /media/amol/WINUX/CIFAR-10-43-0.9919.h5\n",
      "Epoch 44/50\n",
      "50000/50000 [==============================] - 28s 568us/step - loss: 0.4144 - acc: 0.8500 - val_loss: 0.9706 - val_acc: 0.7155\n",
      "\n",
      "Epoch 00044: saving model to /media/amol/WINUX/CIFAR-10-44-0.9706.h5\n",
      "Epoch 45/50\n",
      "50000/50000 [==============================] - 29s 573us/step - loss: 0.4123 - acc: 0.8525 - val_loss: 0.9597 - val_acc: 0.7211\n",
      "\n",
      "Epoch 00045: saving model to /media/amol/WINUX/CIFAR-10-45-0.9597.h5\n",
      "Epoch 46/50\n",
      "50000/50000 [==============================] - 29s 570us/step - loss: 0.4054 - acc: 0.8539 - val_loss: 0.9561 - val_acc: 0.7251\n",
      "\n",
      "Epoch 00046: saving model to /media/amol/WINUX/CIFAR-10-46-0.9561.h5\n",
      "Epoch 47/50\n",
      "50000/50000 [==============================] - 28s 564us/step - loss: 0.3946 - acc: 0.8579 - val_loss: 0.9814 - val_acc: 0.7207\n",
      "\n",
      "Epoch 00047: saving model to /media/amol/WINUX/CIFAR-10-47-0.9814.h5\n",
      "Epoch 48/50\n",
      "50000/50000 [==============================] - 29s 577us/step - loss: 0.4025 - acc: 0.8550 - val_loss: 0.9892 - val_acc: 0.7262\n",
      "\n",
      "Epoch 00048: saving model to /media/amol/WINUX/CIFAR-10-48-0.9892.h5\n",
      "Epoch 49/50\n",
      "50000/50000 [==============================] - 29s 571us/step - loss: 0.3844 - acc: 0.8602 - val_loss: 1.0137 - val_acc: 0.7131\n",
      "\n",
      "Epoch 00049: saving model to /media/amol/WINUX/CIFAR-10-49-1.0137.h5\n",
      "Epoch 50/50\n",
      "50000/50000 [==============================] - 28s 569us/step - loss: 0.3852 - acc: 0.8616 - val_loss: 1.0150 - val_acc: 0.7204\n",
      "\n",
      "Epoch 00050: saving model to /media/amol/WINUX/CIFAR-10-50-1.0150.h5\n"
     ]
    },
    {
     "data": {
      "text/plain": [
       "<tensorflow.python.keras.callbacks.History at 0x7f848534e780>"
      ]
     },
     "execution_count": 21,
     "metadata": {},
     "output_type": "execute_result"
    }
   ],
   "source": [
    "model.fit(X_train, y_train, epochs=n_epochs, verbose=1, batch_size=batch_size, callbacks=callbacks_list, shuffle=True, validation_data=(X_test, y_test))"
   ]
  },
  {
   "cell_type": "markdown",
   "metadata": {},
   "source": [
    "Accuracy = 73%"
   ]
  }
 ],
 "metadata": {
  "kernelspec": {
   "display_name": "Python [conda env:tensorflow]",
   "language": "python",
   "name": "conda-env-tensorflow-py"
  },
  "language_info": {
   "codemirror_mode": {
    "name": "ipython",
    "version": 3
   },
   "file_extension": ".py",
   "mimetype": "text/x-python",
   "name": "python",
   "nbconvert_exporter": "python",
   "pygments_lexer": "ipython3",
   "version": "3.6.6"
  }
 },
 "nbformat": 4,
 "nbformat_minor": 2
}
